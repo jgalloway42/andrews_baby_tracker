{
 "cells": [
  {
   "cell_type": "code",
   "execution_count": null,
   "metadata": {},
   "outputs": [],
   "source": [
    "from preamble import *\n",
    "cwd = os.getcwd()\n",
    "root_dir = os.path.abspath(os.path.join(cwd, os.pardir))\n",
    "raw_data = os.path.join(root_dir,'data','raw')\n",
    "processed_data = os.path.join(root_dir,'data','processed')\n"
   ]
  },
  {
   "cell_type": "code",
   "execution_count": null,
   "metadata": {},
   "outputs": [],
   "source": [
    "# print input files for dataset in raw data folder\n",
    "files_dict = {}   \n",
    "ignore = ['.gitkeep']\n",
    "for dirname, _, filenames in os.walk(raw_data):     \n",
    "    for filename in filenames:                      \n",
    "        if filename in ignore:                              \n",
    "            continue                      \n",
    "        files_dict[filename.split('.')[0]] = os.path.join(dirname, filename)         \n",
    "        print(filename.split('.')[0],files_dict[filename.split('.')[0]])"
   ]
  }
 ],
 "metadata": {
  "kernelspec": {
   "display_name": "Python 3.9.7 ('base')",
   "language": "python",
   "name": "python3"
  },
  "language_info": {
   "codemirror_mode": {
    "name": "ipython",
    "version": 3
   },
   "file_extension": ".py",
   "mimetype": "text/x-python",
   "name": "python",
   "nbconvert_exporter": "python",
   "pygments_lexer": "ipython3",
   "version": "3.9.7"
  },
  "orig_nbformat": 4,
  "vscode": {
   "interpreter": {
    "hash": "44454e29e70437aac5a8cbd5d3c31aa34268c25eccd4f417141c7bc82b149a3d"
   }
  }
 },
 "nbformat": 4,
 "nbformat_minor": 2
}
